{
 "cells": [
  {
   "cell_type": "code",
   "execution_count": 9,
   "id": "ddec27e5-cc72-49ab-a0c6-d16692046788",
   "metadata": {},
   "outputs": [
    {
     "name": "stdout",
     "output_type": "stream",
     "text": [
      "CSV file saved at: polylines_test9.csv\n"
     ]
    }
   ],
   "source": [
    "import cv2\n",
    "import numpy as np\n",
    "import csv\n",
    "\n",
    "# Load the image\n",
    "image_path = \"test9.png\"\n",
    "image = cv2.imread(image_path, cv2.IMREAD_GRAYSCALE)\n",
    "\n",
    "# Threshold the image to get the contours\n",
    "_, thresholded = cv2.threshold(image, 127, 255, cv2.THRESH_BINARY_INV)\n",
    "contours, _ = cv2.findContours(thresholded, cv2.RETR_EXTERNAL, cv2.CHAIN_APPROX_SIMPLE)\n",
    "\n",
    "# Prepare data for CSV\n",
    "data = []\n",
    "\n",
    "# Iterate through contours and extract polyline data\n",
    "for i, contour in enumerate(contours):\n",
    "    polyline_id = i\n",
    "    no_of_points = len(contour)\n",
    "    x_coordinates = [point[0][0] for point in contour]\n",
    "    y_coordinates = [point[0][1] for point in contour]\n",
    "    \n",
    "    for x, y in zip(x_coordinates, y_coordinates):\n",
    "        data.append([polyline_id, no_of_points, \"{:.2E}\".format(x), \"{:.2E}\".format(y)])\n",
    "\n",
    "# Save to CSV\n",
    "csv_path = \"polylines_test9.csv\"\n",
    "with open(csv_path, 'w', newline='') as file:\n",
    "    writer = csv.writer(file)\n",
    "    writer.writerow([\"polyline id\", \"no of points on polyline\", \"x-coordinates\", \"y-coordinates\"])\n",
    "    writer.writerows(data)\n",
    "\n",
    "print(f\"CSV file saved at: {csv_path}\")\n"
   ]
  },
  {
   "cell_type": "code",
   "execution_count": null,
   "id": "f2a8e600-643d-45ea-8bbc-b1a5bdd3c956",
   "metadata": {},
   "outputs": [],
   "source": []
  }
 ],
 "metadata": {
  "kernelspec": {
   "display_name": "Python 3 (ipykernel)",
   "language": "python",
   "name": "python3"
  },
  "language_info": {
   "codemirror_mode": {
    "name": "ipython",
    "version": 3
   },
   "file_extension": ".py",
   "mimetype": "text/x-python",
   "name": "python",
   "nbconvert_exporter": "python",
   "pygments_lexer": "ipython3",
   "version": "3.11.4"
  }
 },
 "nbformat": 4,
 "nbformat_minor": 5
}
